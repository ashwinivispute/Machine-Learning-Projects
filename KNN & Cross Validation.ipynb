{
 "cells": [
  {
   "cell_type": "markdown",
   "metadata": {},
   "source": [
    "**Using scikit-learn to implement k nearest neighbors on a dataset and performing cross-validation to decide how many neighbors perform best.** "
   ]
  },
  {
   "cell_type": "markdown",
   "metadata": {},
   "source": [
    "***Importing all the required libraries such as numpy,pandas,sklearn***"
   ]
  },
  {
   "cell_type": "code",
   "execution_count": 491,
   "metadata": {
    "collapsed": true
   },
   "outputs": [],
   "source": [
    "%matplotlib inline\n",
    "import os # importing os library for use of operating systems related functions such as os.environ(), os.path() etc\n",
    "import numpy as np # importing numpy library for use of numpy functions and declaring it as 'np' for its ease of use\n",
    "import pandas as pd # importing pandas library for use of pandas functions and declaring it as 'pd' for easy use\n",
    "import seaborn as sns # importing seaborn library to use seaborn library functions and declaring it as sns \n",
    "import matplotlib.pyplot as plt # importing matplotlib.pyplot library to use matplotlib functions and using it as plt in further code\n",
    "#from pygeocoder import Geocoder\n",
    "import sklearn #importing sklearn to import subsquent functionality such as KNearestNeighbor\n",
    "from sklearn import datasets"
   ]
  },
  {
   "cell_type": "markdown",
   "metadata": {},
   "source": [
    "***Importing Titanic Dataset with 4 columns such as PassengerId, Age, Fare, Pclass***"
   ]
  },
  {
   "cell_type": "code",
   "execution_count": 528,
   "metadata": {},
   "outputs": [
    {
     "data": {
      "text/html": [
       "<div>\n",
       "<style>\n",
       "    .dataframe thead tr:only-child th {\n",
       "        text-align: right;\n",
       "    }\n",
       "\n",
       "    .dataframe thead th {\n",
       "        text-align: left;\n",
       "    }\n",
       "\n",
       "    .dataframe tbody tr th {\n",
       "        vertical-align: top;\n",
       "    }\n",
       "</style>\n",
       "<table border=\"1\" class=\"dataframe\">\n",
       "  <thead>\n",
       "    <tr style=\"text-align: right;\">\n",
       "      <th></th>\n",
       "      <th>PassengerId</th>\n",
       "      <th>Age</th>\n",
       "      <th>Fare</th>\n",
       "      <th>Pclass</th>\n",
       "    </tr>\n",
       "  </thead>\n",
       "  <tbody>\n",
       "    <tr>\n",
       "      <th>0</th>\n",
       "      <td>1</td>\n",
       "      <td>22</td>\n",
       "      <td>7</td>\n",
       "      <td>Third Class</td>\n",
       "    </tr>\n",
       "    <tr>\n",
       "      <th>1</th>\n",
       "      <td>2</td>\n",
       "      <td>38</td>\n",
       "      <td>71</td>\n",
       "      <td>First Class</td>\n",
       "    </tr>\n",
       "    <tr>\n",
       "      <th>2</th>\n",
       "      <td>3</td>\n",
       "      <td>26</td>\n",
       "      <td>8</td>\n",
       "      <td>Third Class</td>\n",
       "    </tr>\n",
       "    <tr>\n",
       "      <th>3</th>\n",
       "      <td>4</td>\n",
       "      <td>35</td>\n",
       "      <td>53</td>\n",
       "      <td>First Class</td>\n",
       "    </tr>\n",
       "    <tr>\n",
       "      <th>4</th>\n",
       "      <td>5</td>\n",
       "      <td>35</td>\n",
       "      <td>8</td>\n",
       "      <td>Third Class</td>\n",
       "    </tr>\n",
       "  </tbody>\n",
       "</table>\n",
       "</div>"
      ],
      "text/plain": [
       "   PassengerId  Age  Fare       Pclass\n",
       "0            1   22     7  Third Class\n",
       "1            2   38    71  First Class\n",
       "2            3   26     8  Third Class\n",
       "3            4   35    53  First Class\n",
       "4            5   35     8  Third Class"
      ]
     },
     "execution_count": 528,
     "metadata": {},
     "output_type": "execute_result"
    }
   ],
   "source": [
    "fp=\"C:/Users/Ashwini/Desktop/STATS & ML/Titanic Dataset.csv\"\n",
    "result_data=pd.read_csv(fp)#accessing fp to read .csv file using pd.read_csv()\n",
    "result_data.head() #displays first 5 rows from the dataframe."
   ]
  },
  {
   "cell_type": "markdown",
   "metadata": {},
   "source": [
    "***In the below code we will be dividing data into 2 sets: Training & Testing by importing train_test_split for checking the accuracy of model***"
   ]
  },
  {
   "cell_type": "code",
   "execution_count": 530,
   "metadata": {
    "collapsed": true
   },
   "outputs": [],
   "source": [
    "import numpy as np\n",
    "from sklearn.cross_validation import train_test_split\n",
    "\n",
    "# creating design matrix X and target vector y to separate data into 2 parts for checking the accuracy\n",
    "X = np.array(result_data.ix[:, 0:3]) # end index is exclusive\n",
    "y = np.array(result_data['Pclass'])\n",
    "X_train, X_test, y_train, y_test = train_test_split(X, y, test_size=0.2, random_state=42)# split into train and test"
   ]
  },
  {
   "cell_type": "markdown",
   "metadata": {},
   "source": [
    "## K-nearest neighbors"
   ]
  },
  {
   "cell_type": "markdown",
   "metadata": {},
   "source": [
    "***Here we are randomly selecting value of k as 3 to check the accuracy of model, further we will using an arbitrary k value for checking how cross validation can be used to find its optimal value***"
   ]
  },
  {
   "cell_type": "code",
   "execution_count": 527,
   "metadata": {},
   "outputs": [
    {
     "name": "stdout",
     "output_type": "stream",
     "text": [
      "Accuracy: 0.670542635659\n"
     ]
    }
   ],
   "source": [
    "# loading library\n",
    "from sklearn.neighbors import KNeighborsClassifier\n",
    "\n",
    "# instantiate learning model (k = 3)\n",
    "knn = KNeighborsClassifier(n_neighbors=3)\n",
    "\n",
    "# fitting the model\n",
    "knn.fit(X_train, y_train)\n",
    "\n",
    "# predict the response\n",
    "pred = knn.predict(X_test)\n",
    "\n",
    "# evaluate accuracy\n",
    "print ('Accuracy:',accuracy_score(y_test, pred))"
   ]
  },
  {
   "cell_type": "markdown",
   "metadata": {},
   "source": [
    "## Cross Validation"
   ]
  },
  {
   "cell_type": "markdown",
   "metadata": {},
   "source": [
    "** Cross validation can be used to determine the test error in order to evaluate the performance of the model and for selecting the level of flexibility **"
   ]
  },
  {
   "cell_type": "markdown",
   "metadata": {},
   "source": [
    "***Estimating the test error rate by holding out a subset of the training set from the fitting process. This subset, called the validation set.Among various validation techniques we will be using k-fold cross validation.In our case value of k is 10, hence the process we will be implementing is 10-fold cross validation***"
   ]
  },
  {
   "cell_type": "markdown",
   "metadata": {},
   "source": [
    "***Calculating cross validation score by importing cross_val_score to perform the 10-fold cross validation by using a generated list of odd K’s ranging from 1 to 50.***"
   ]
  },
  {
   "cell_type": "code",
   "execution_count": 531,
   "metadata": {},
   "outputs": [
    {
     "data": {
      "text/plain": [
       "[0.67520155131315085,\n",
       " 0.68200811229038372,\n",
       " 0.68273164255756946,\n",
       " 0.69256580470681606,\n",
       " 0.69741194746149482,\n",
       " 0.69748736224279195,\n",
       " 0.69748699071462306,\n",
       " 0.69743042962865009,\n",
       " 0.69646926269528064,\n",
       " 0.69356597666092656,\n",
       " 0.6907291470481669,\n",
       " 0.68877750957672756,\n",
       " 0.68582625472493208,\n",
       " 0.67901913917394452,\n",
       " 0.67710576910390585,\n",
       " 0.66938527239140455,\n",
       " 0.66547322213440863,\n",
       " 0.66639649319454619,\n",
       " 0.66443533735265192,\n",
       " 0.65962764504495952,\n",
       " 0.65574396685374281,\n",
       " 0.65189781300758898,\n",
       " 0.64895663110000323,\n",
       " 0.64604345516702522,\n",
       " 0.64510114192897994]"
      ]
     },
     "execution_count": 531,
     "metadata": {},
     "output_type": "execute_result"
    }
   ],
   "source": [
    "from sklearn.cross_validation import cross_val_score # import cross_val_score to calculate the cross validation score\n",
    "myList = list(range(1,50))\n",
    "\n",
    "neighbors = list(filter(lambda x: x % 2 != 0, myList))# subsetting just the odd ones\n",
    "\n",
    "cv_scores = []# empty list that will hold cv scores\n",
    "\n",
    "for k in neighbors:\n",
    "    knn = KNeighborsClassifier(n_neighbors=k)\n",
    "    scores = cross_val_score(knn, X_train, y_train, cv=10, scoring='accuracy')\n",
    "    cv_scores.append(scores.mean())# perform 10-fold cross validation by defining cv=10\n",
    "    \n",
    "cv_scores # print cross validation scores for each record in the data frame"
   ]
  },
  {
   "cell_type": "markdown",
   "metadata": {},
   "source": [
    "***Calculating mean squared error for each record and finding out the index of best k. Best K is the one that corresponds to the lowest test error rate. In our case index of best k value is 5***"
   ]
  },
  {
   "cell_type": "code",
   "execution_count": 516,
   "metadata": {},
   "outputs": [
    {
     "name": "stdout",
     "output_type": "stream",
     "text": [
      "Index of best k: [5]\n"
     ]
    }
   ],
   "source": [
    "MSE = [1 - x for x in cv_scores] # calculating Mean squared error of each record \n",
    "\n",
    "from sklearn.neighbors import NearestNeighbors\n",
    "optimal_k = [MSE.index(min(MSE))]# determining best k\n",
    "print ('Index of best k:',optimal_k) # Index of best k is 5"
   ]
  },
  {
   "cell_type": "markdown",
   "metadata": {},
   "source": [
    "***Plotting number of neighbors vrs the error values which we have calculated in the above block***"
   ]
  },
  {
   "cell_type": "code",
   "execution_count": 517,
   "metadata": {},
   "outputs": [
    {
     "data": {
      "image/png": "[encoded data removed]",
      "text/plain": [
       "<matplotlib.figure.Figure at 0x23203ef00b8>"
      ]
     },
     "metadata": {},
     "output_type": "display_data"
    }
   ],
   "source": [
    "optimal_k = neighbors[MSE.index(min(MSE))]\n",
    "import matplotlib.pyplot as plt\n",
    "# plot misclassification error vs k\n",
    "plt.plot(neighbors, MSE)\n",
    "plt.xlabel('Number of Neighbors K')# defining label x\n",
    "plt.ylabel('Misclassification Error')# defining label y\n",
    "plt.show() #Display plot "
   ]
  },
  {
   "cell_type": "markdown",
   "metadata": {},
   "source": [
    "***We need to perform the predict method which required to compute the euclidean distance between the “new” observation and all the data points in the training set. Furthermore, we need to select the K nearest neighbors to perform a majority vote.***\n",
    "\n",
    "***In the below code, we are creating an array of distances, finding out the k nearest neighbors***"
   ]
  },
  {
   "cell_type": "code",
   "execution_count": 532,
   "metadata": {
    "collapsed": true
   },
   "outputs": [],
   "source": [
    "def train(X_train, y_train):\n",
    "     return\n",
    "\n",
    "def predict(X_train, y_train, x_test, k):\n",
    "# create list for distances and targets\n",
    "    distances = []\n",
    "    targets = []\n",
    "\n",
    "    for i in range(len(X_train)):\n",
    "# first we compute the euclidean distance\n",
    "        distance = np.sqrt(np.sum(np.square(x_test - X_train[i, :])))\n",
    "# add it to list of distances\n",
    "        distances.append([distance, i])\n",
    "\n",
    "# sort the list\n",
    "    distances = sorted(distances)\n",
    "\n",
    "# make a list of the k neighbors' targets\n",
    "    for i in range(k):\n",
    "        index = distances[i][1]\n",
    "        targets.append(y_train[index])\n",
    "\n",
    "# return most common target\n",
    "    return Counter(targets).most_common(1)[0][0]\n"
   ]
  },
  {
   "cell_type": "markdown",
   "metadata": {},
   "source": [
    "***Performing a majority vote using counter***"
   ]
  },
  {
   "cell_type": "code",
   "execution_count": 520,
   "metadata": {
    "collapsed": true
   },
   "outputs": [],
   "source": [
    "from collections import Counter\n",
    "def kNearestNeighbor(X_train, y_train, X_test, predictions, k):\n",
    "# train on the input data\n",
    "    train(X_train, y_train)\n",
    "\n",
    "# loop over all observations\n",
    "    for i in range(len(X_test)):\n",
    "        predictions.append(predict(X_train, y_train, X_test[i, :], k))"
   ]
  },
  {
   "cell_type": "markdown",
   "metadata": {},
   "source": [
    "***Finding out the accuracy of the model as follows:***"
   ]
  },
  {
   "cell_type": "code",
   "execution_count": 521,
   "metadata": {},
   "outputs": [
    {
     "name": "stdout",
     "output_type": "stream",
     "text": [
      "67.0542635659\n"
     ]
    }
   ],
   "source": [
    "predictions = []\n",
    "\n",
    "kNearestNeighbor(X_train, y_train, X_test, predictions, 5)\n",
    "\n",
    "# transform the list into an array\n",
    "predictions = np.asarray(predictions)\n",
    "\n",
    "# evaluating accuracy\n",
    "accuracy = accuracy_score(y_test, predictions)\n",
    "print(accuracy*100)"
   ]
  },
  {
   "cell_type": "markdown",
   "metadata": {},
   "source": [
    "***value of K can’t be arbitrarily large as we can’t have more neighbors than the number of observations in the training data set hence using try block in the above code***"
   ]
  },
  {
   "cell_type": "code",
   "execution_count": 533,
   "metadata": {},
   "outputs": [
    {
     "name": "stdout",
     "output_type": "stream",
     "text": [
      "67.0542635659\n"
     ]
    }
   ],
   "source": [
    "def kNearestNeighbor(X_train, y_train, X_test, predictions, k):\n",
    "# check if k larger than n\n",
    "    if k > len(X_train):\n",
    "        raise ValueError\n",
    "\n",
    "# train on the input data\n",
    "    train(X_train, y_train)\n",
    "# predict for each testing observation\n",
    "    for i in range(len(X_test)):\n",
    "        predictions.append(predict(X_train, y_train, X_test[i, :], k))\n",
    "\n",
    "# making our predictions \n",
    "predictions = []\n",
    "try:\n",
    "    kNearestNeighbor(X_train, y_train, X_test, predictions, 5)\n",
    "    predictions = np.asarray(predictions)\n",
    "# evaluating accuracy\n",
    "    accuracy = accuracy_score(y_test, predictions) * 100\n",
    "    print(accuracy)\n",
    "\n",
    "except ValueError:\n",
    "    print('Can not have more neighbors than training records')"
   ]
  },
  {
   "cell_type": "markdown",
   "metadata": {},
   "source": [
    "***Creating a scaterplot of Age vrs Fare columns of data set***"
   ]
  },
  {
   "cell_type": "code",
   "execution_count": 510,
   "metadata": {},
   "outputs": [
    {
     "data": {
      "image/png": "[encoded data removed]",
      "text/plain": [
       "<matplotlib.figure.Figure at 0x2320007f828>"
      ]
     },
     "metadata": {},
     "output_type": "display_data"
    }
   ],
   "source": [
    "import matplotlib.pyplot as plt\n",
    "\n",
    "x=result_data['Age']\n",
    "y=result_data['Fare']\n",
    "plt.scatter(x,y)\n",
    "plt.show()"
   ]
  },
  {
   "cell_type": "markdown",
   "metadata": {},
   "source": [
    "*** References: https://www.kaggle.com/schmitzi/titanic-data-cleaning ***"
   ]
  }
 ],
 "metadata": {
  "kernelspec": {
   "display_name": "Python 3",
   "language": "python",
   "name": "python3"
  },
  "language_info": {
   "codemirror_mode": {
    "name": "ipython",
    "version": 3
   },
   "file_extension": ".py",
   "mimetype": "text/x-python",
   "name": "python",
   "nbconvert_exporter": "python",
   "pygments_lexer": "ipython3",
   "version": "3.6.1"
  }
 },
 "nbformat": 4,
 "nbformat_minor": 2
}
