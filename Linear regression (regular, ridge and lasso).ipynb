{
 "cells": [
  {
   "cell_type": "markdown",
   "metadata": {},
   "source": [
    "** Applying Linear regression (regular, ridge, and lasso), visualizing and comparing the results**"
   ]
  },
  {
   "cell_type": "code",
   "execution_count": 168,
   "metadata": {
    "collapsed": true
   },
   "outputs": [],
   "source": [
    "import pandas as pd\n",
    "import numpy as np\n",
    "import sklearn\n",
    "import matplotlib.pyplot as plt"
   ]
  },
  {
   "cell_type": "markdown",
   "metadata": {},
   "source": [
    "***Importing data from Boston dataset with columns ID, crim, Rooms,age,tax,prices etc ***"
   ]
  },
  {
   "cell_type": "code",
   "execution_count": 169,
   "metadata": {
    "collapsed": true
   },
   "outputs": [],
   "source": [
    "data = pd.read_csv(\"C:/Users/Ashwini/Desktop/STATS & ML/Boston_new.csv\") # importing boston housing data"
   ]
  },
  {
   "cell_type": "markdown",
   "metadata": {},
   "source": [
    "***Displaying first five records of dataset***"
   ]
  },
  {
   "cell_type": "code",
   "execution_count": 170,
   "metadata": {},
   "outputs": [
    {
     "data": {
      "text/html": [
       "<div>\n",
       "<style>\n",
       "    .dataframe thead tr:only-child th {\n",
       "        text-align: right;\n",
       "    }\n",
       "\n",
       "    .dataframe thead th {\n",
       "        text-align: left;\n",
       "    }\n",
       "\n",
       "    .dataframe tbody tr th {\n",
       "        vertical-align: top;\n",
       "    }\n",
       "</style>\n",
       "<table border=\"1\" class=\"dataframe\">\n",
       "  <thead>\n",
       "    <tr style=\"text-align: right;\">\n",
       "      <th></th>\n",
       "      <th>ID</th>\n",
       "      <th>crim</th>\n",
       "      <th>zn</th>\n",
       "      <th>indus</th>\n",
       "      <th>chas</th>\n",
       "      <th>nox</th>\n",
       "      <th>Rooms</th>\n",
       "      <th>age</th>\n",
       "      <th>dis</th>\n",
       "      <th>rad</th>\n",
       "      <th>tax</th>\n",
       "      <th>ptratio</th>\n",
       "      <th>black</th>\n",
       "      <th>lstat</th>\n",
       "      <th>Prices</th>\n",
       "    </tr>\n",
       "  </thead>\n",
       "  <tbody>\n",
       "    <tr>\n",
       "      <th>0</th>\n",
       "      <td>1</td>\n",
       "      <td>0.00632</td>\n",
       "      <td>18.0</td>\n",
       "      <td>2.31</td>\n",
       "      <td>0</td>\n",
       "      <td>0.538</td>\n",
       "      <td>6.575</td>\n",
       "      <td>65.2</td>\n",
       "      <td>4.0900</td>\n",
       "      <td>1</td>\n",
       "      <td>296</td>\n",
       "      <td>15.3</td>\n",
       "      <td>396.90</td>\n",
       "      <td>4.98</td>\n",
       "      <td>24.0</td>\n",
       "    </tr>\n",
       "    <tr>\n",
       "      <th>1</th>\n",
       "      <td>2</td>\n",
       "      <td>0.02731</td>\n",
       "      <td>0.0</td>\n",
       "      <td>7.07</td>\n",
       "      <td>0</td>\n",
       "      <td>0.469</td>\n",
       "      <td>6.421</td>\n",
       "      <td>78.9</td>\n",
       "      <td>4.9671</td>\n",
       "      <td>2</td>\n",
       "      <td>242</td>\n",
       "      <td>17.8</td>\n",
       "      <td>396.90</td>\n",
       "      <td>9.14</td>\n",
       "      <td>21.6</td>\n",
       "    </tr>\n",
       "    <tr>\n",
       "      <th>2</th>\n",
       "      <td>4</td>\n",
       "      <td>0.03237</td>\n",
       "      <td>0.0</td>\n",
       "      <td>2.18</td>\n",
       "      <td>0</td>\n",
       "      <td>0.458</td>\n",
       "      <td>6.998</td>\n",
       "      <td>45.8</td>\n",
       "      <td>6.0622</td>\n",
       "      <td>3</td>\n",
       "      <td>222</td>\n",
       "      <td>18.7</td>\n",
       "      <td>394.63</td>\n",
       "      <td>2.94</td>\n",
       "      <td>33.4</td>\n",
       "    </tr>\n",
       "    <tr>\n",
       "      <th>3</th>\n",
       "      <td>5</td>\n",
       "      <td>0.06905</td>\n",
       "      <td>0.0</td>\n",
       "      <td>2.18</td>\n",
       "      <td>0</td>\n",
       "      <td>0.458</td>\n",
       "      <td>7.147</td>\n",
       "      <td>54.2</td>\n",
       "      <td>6.0622</td>\n",
       "      <td>3</td>\n",
       "      <td>222</td>\n",
       "      <td>18.7</td>\n",
       "      <td>396.90</td>\n",
       "      <td>5.33</td>\n",
       "      <td>36.2</td>\n",
       "    </tr>\n",
       "    <tr>\n",
       "      <th>4</th>\n",
       "      <td>7</td>\n",
       "      <td>0.08829</td>\n",
       "      <td>12.5</td>\n",
       "      <td>7.87</td>\n",
       "      <td>0</td>\n",
       "      <td>0.524</td>\n",
       "      <td>6.012</td>\n",
       "      <td>66.6</td>\n",
       "      <td>5.5605</td>\n",
       "      <td>5</td>\n",
       "      <td>311</td>\n",
       "      <td>15.2</td>\n",
       "      <td>395.60</td>\n",
       "      <td>12.43</td>\n",
       "      <td>22.9</td>\n",
       "    </tr>\n",
       "  </tbody>\n",
       "</table>\n",
       "</div>"
      ],
      "text/plain": [
       "   ID     crim    zn  indus  chas    nox  Rooms   age     dis  rad  tax  \\\n",
       "0   1  0.00632  18.0   2.31     0  0.538  6.575  65.2  4.0900    1  296   \n",
       "1   2  0.02731   0.0   7.07     0  0.469  6.421  78.9  4.9671    2  242   \n",
       "2   4  0.03237   0.0   2.18     0  0.458  6.998  45.8  6.0622    3  222   \n",
       "3   5  0.06905   0.0   2.18     0  0.458  7.147  54.2  6.0622    3  222   \n",
       "4   7  0.08829  12.5   7.87     0  0.524  6.012  66.6  5.5605    5  311   \n",
       "\n",
       "   ptratio   black  lstat  Prices  \n",
       "0     15.3  396.90   4.98    24.0  \n",
       "1     17.8  396.90   9.14    21.6  \n",
       "2     18.7  394.63   2.94    33.4  \n",
       "3     18.7  396.90   5.33    36.2  \n",
       "4     15.2  395.60  12.43    22.9  "
      ]
     },
     "execution_count": 170,
     "metadata": {},
     "output_type": "execute_result"
    }
   ],
   "source": [
    "data.head() #displaying 1st five records"
   ]
  },
  {
   "cell_type": "markdown",
   "metadata": {},
   "source": [
    "***Defining the target variable and predictors***"
   ]
  },
  {
   "cell_type": "code",
   "execution_count": 171,
   "metadata": {
    "collapsed": true
   },
   "outputs": [],
   "source": [
    "X = data.drop('Prices',axis=1)#predictor\n",
    "Y = data['Prices']#target"
   ]
  },
  {
   "cell_type": "markdown",
   "metadata": {},
   "source": [
    "***Splitting the dataset into 2 sets: Training set and Test set***"
   ]
  },
  {
   "cell_type": "code",
   "execution_count": 172,
   "metadata": {
    "collapsed": true
   },
   "outputs": [],
   "source": [
    "from sklearn.cross_validation import train_test_split\n",
    "X_train, X_test, Y_train, Y_test = sklearn.cross_validation.train_test_split(X, Y, test_size = 0.33, random_state = 5)# splitting data into training and testing sets"
   ]
  },
  {
   "cell_type": "markdown",
   "metadata": {},
   "source": [
    "## Regular linear regression\n",
    "\n",
    "Linear regression is a linear approach for modelling the relationship between a dependent variable y and one or more explanatory variables (or independent variables) denoted X.Applying regular linear regression to boston data "
   ]
  },
  {
   "cell_type": "markdown",
   "metadata": {},
   "source": [
    "***Importing linear regression from sklearn***"
   ]
  },
  {
   "cell_type": "code",
   "execution_count": 173,
   "metadata": {
    "collapsed": true
   },
   "outputs": [],
   "source": [
    "from sklearn.linear_model import LinearRegression"
   ]
  },
  {
   "cell_type": "markdown",
   "metadata": {},
   "source": [
    "***Fitting data into regular linear regression model & displaying the predicted Housing prices***"
   ]
  },
  {
   "cell_type": "code",
   "execution_count": 174,
   "metadata": {},
   "outputs": [
    {
     "data": {
      "text/plain": [
       "array([ 25.61395024,   7.61026773,  22.94853771,  19.04697458,\n",
       "        24.60917795,  26.04580419,   6.07167082,  29.51534848,\n",
       "        35.87891104,  24.95300495,  41.47486948,   7.28216373,\n",
       "        27.88465077,  19.52068242,  17.11921329,  33.91466126,\n",
       "        29.75464312,  18.70005876,  26.82507861,  18.65192976,\n",
       "        23.55405055,  17.3895998 ,  26.8212323 ,  32.38935632,\n",
       "        31.88277924,  25.57424461,  16.38026494,   0.2948749 ,\n",
       "        28.31898315,  42.48966914,  35.47593234,  30.11277957,\n",
       "        43.2247869 ,  32.40947315,  25.01129513,  13.16456971,\n",
       "        12.81353145,  20.63432984,  28.80112466,  18.60434654,\n",
       "        11.61783072,  27.35775949,  10.31010304,  27.42989586,\n",
       "        12.26470506,  24.66304835,  24.39457892,  17.91132623,\n",
       "        33.07997507,  21.6565355 ,  34.56824096,  28.03909035,\n",
       "        38.73781471,  10.81221433,  27.6064652 ,  24.63695824,\n",
       "        11.20603191,  17.72729127,  39.05918945,  26.58432388,\n",
       "        18.76194225,  26.41580117,  20.85387738,  27.64091648,\n",
       "        20.07158055,  27.68964172,  25.75286084,   9.43204401,\n",
       "        11.31447861,  31.20182502,  13.82284894,  14.32566626,\n",
       "        23.3421302 ,  22.6563649 ,  39.89561021,  18.01935663,\n",
       "        20.16291116,  20.50909665,  22.31898373,  14.6632364 ,\n",
       "        10.8279025 ,  20.28350618,   7.91617181,  29.22304598,\n",
       "        16.03136284,  30.51904417,  23.53451854,  27.25723771,\n",
       "        14.52485992,  25.71659312,  15.91493832,  31.00300294,\n",
       "        26.37650729,  20.00017222,  23.80251231,  41.7565502 ,\n",
       "        22.64728471,  19.50709691,  14.22618147,  25.59751825,\n",
       "        26.0834175 ,  14.43397254,  12.79609252,   4.37517483,\n",
       "        27.48881909,  -2.94426326,  33.85890468,  28.21389721,\n",
       "        22.18171747,  17.00610103])"
      ]
     },
     "execution_count": 174,
     "metadata": {},
     "output_type": "execute_result"
    }
   ],
   "source": [
    "lm = LinearRegression()\n",
    "\n",
    "lm.fit(X_train, Y_train)#fitting model\n",
    "\n",
    "Y_pred = lm.predict(X_test)#predicting housing price values\n",
    "\n",
    "Y_pred"
   ]
  },
  {
   "cell_type": "markdown",
   "metadata": {},
   "source": [
    "***Calculating variance score of model fit***"
   ]
  },
  {
   "cell_type": "code",
   "execution_count": 193,
   "metadata": {},
   "outputs": [
    {
     "name": "stdout",
     "output_type": "stream",
     "text": [
      "Variance score:: 0.730671801841\n"
     ]
    }
   ],
   "source": [
    "from sklearn.metrics import explained_variance_score\n",
    "print('Variance score::',explained_variance_score(Y_test,Y_pred))# calculating variance score"
   ]
  },
  {
   "cell_type": "markdown",
   "metadata": {},
   "source": [
    "***Calculating the accuracy score of regular linear regression***"
   ]
  },
  {
   "cell_type": "code",
   "execution_count": 192,
   "metadata": {},
   "outputs": [
    {
     "name": "stdout",
     "output_type": "stream",
     "text": [
      "Accuracy score: 0.726538010537\n"
     ]
    }
   ],
   "source": [
    "print('Accuracy score:',lm.score(X_test, Y_test))# calculating accuracy score of model fit"
   ]
  },
  {
   "cell_type": "markdown",
   "metadata": {},
   "source": [
    "***Calculating the mean squared error***"
   ]
  },
  {
   "cell_type": "code",
   "execution_count": 177,
   "metadata": {},
   "outputs": [
    {
     "name": "stdout",
     "output_type": "stream",
     "text": [
      "Mean squared Error MSE: 21.4804083651\n"
     ]
    }
   ],
   "source": [
    "from sklearn import metrics\n",
    "print('Mean squared Error MSE:', metrics.mean_squared_error(Y_test, Y_pred))# calculating MSE"
   ]
  },
  {
   "cell_type": "markdown",
   "metadata": {},
   "source": [
    "***Plotting predicted housing prices versus the number of rooms***"
   ]
  },
  {
   "cell_type": "code",
   "execution_count": 224,
   "metadata": {},
   "outputs": [
    {
     "data": {
      "image/png": "[encoded data removed]",
      "text/plain": [
       "<matplotlib.figure.Figure at 0x1fb158347f0>"
      ]
     },
     "metadata": {},
     "output_type": "display_data"
    }
   ],
   "source": [
    "#plt.scatter(X_test['Rooms'], Y_test,color='b')\n",
    "plt.scatter(Y_test,Y_pred, color='b')# plotting graph of predicted and actual house price\n",
    "#plt.plot(X_train, lm.predict(X_train), color='blue')\n",
    "#plt.plot(X_train,lm.predict(X_train))\n",
    "plt.xlabel(\"Acutual House Price:\")\n",
    "plt.ylabel(\"Predicted House Price:\")\n",
    "plt.title(\"Actual vs Predicted House Price:\")\n",
    "plt.show()"
   ]
  },
  {
   "cell_type": "markdown",
   "metadata": {},
   "source": [
    "## Lasso regression\n",
    "\n",
    "Lasso(least absolute shrinkage and selection operator) is a regression analysis method that performs both variable selection and regularization in order to enhance the prediction accuracy and interpretability of the statistical model it produces. Applying Lasso regression on boston data"
   ]
  },
  {
   "cell_type": "markdown",
   "metadata": {},
   "source": [
    "***Importing Lasso linear regression from sklearn***"
   ]
  },
  {
   "cell_type": "code",
   "execution_count": 179,
   "metadata": {
    "collapsed": true
   },
   "outputs": [],
   "source": [
    "from sklearn.linear_model import LassoCV"
   ]
  },
  {
   "cell_type": "markdown",
   "metadata": {},
   "source": [
    "**Fitting the data in lasso regression model and displaying the predicted housing prices**"
   ]
  },
  {
   "cell_type": "code",
   "execution_count": 212,
   "metadata": {},
   "outputs": [
    {
     "data": {
      "text/plain": [
       "array([ 23.62472227,  11.21019343,  22.45663981,  19.28170971,\n",
       "        24.26436385,  25.84699818,  10.64511763,  23.68883391,\n",
       "        33.33551334,  25.26684977,  40.04181544,   6.87620672,\n",
       "        28.31270492,  18.6870572 ,  16.44328955,  33.98696603,\n",
       "        27.04239665,  20.54392864,  26.39634588,  17.43996218,\n",
       "        25.19842293,  19.6073092 ,  26.8807876 ,  31.36895002,\n",
       "        30.48391851,  30.22058108,  21.28016476,   0.09893191,\n",
       "        29.42921078,  38.20806951,  30.25843458,  29.80359204,\n",
       "        39.63019626,  31.27579493,  26.23791898,  10.99528706,\n",
       "        13.12298682,  20.02085453,  26.63240841,  19.00091394,\n",
       "        12.93606421,  25.40857219,   9.15337119,  26.30020911,\n",
       "        10.64581675,  24.02184603,  24.75883588,  18.14830838,\n",
       "        31.62495623,  22.0624089 ,  28.43739481,  26.89655827,\n",
       "        36.59363569,  11.61781795,  27.38586096,  25.35507112,\n",
       "        11.92539708,  17.89879176,  32.39857674,  26.66722896,\n",
       "        15.29629514,  28.04140897,  24.19333962,  27.45547586,\n",
       "        19.36019416,  27.62217099,  25.33152993,  17.27643823,\n",
       "        10.66977957,  30.44700184,  12.56966294,  15.63624276,\n",
       "        25.60016885,  22.94998392,  31.91189944,  18.47338776,\n",
       "        19.42736801,  23.03165453,  23.2291498 ,  13.29454687,\n",
       "        12.37673829,  20.10321939,   7.49485129,  27.93454908,\n",
       "        18.49884176,  29.94505077,  24.2904626 ,  26.64441402,\n",
       "        14.53360561,  23.00014486,  14.0589151 ,  30.76341048,\n",
       "        24.59728938,  23.24184446,  24.11736457,  38.42219933,\n",
       "        24.16187299,  21.6068111 ,  15.27624271,  18.45810679,\n",
       "        25.22355471,  18.08149859,  11.8245758 ,   3.10077969,\n",
       "        26.64110832,  -3.22849558,  32.19427838,  29.17317884,\n",
       "        24.66681898,  18.66372252])"
      ]
     },
     "execution_count": 212,
     "metadata": {},
     "output_type": "execute_result"
    }
   ],
   "source": [
    "ls = LassoCV()\n",
    "\n",
    "ls.fit(X_train, Y_train)# fitting model\n",
    "\n",
    "Y_pred = ls.predict(X_test) # calculating housing price values\n",
    "\n",
    "Y_pred"
   ]
  },
  {
   "cell_type": "markdown",
   "metadata": {},
   "source": [
    "***Calculating variance score of model fit***"
   ]
  },
  {
   "cell_type": "code",
   "execution_count": 213,
   "metadata": {},
   "outputs": [
    {
     "name": "stdout",
     "output_type": "stream",
     "text": [
      "Variance Score: 0.715748935198\n"
     ]
    }
   ],
   "source": [
    "#Y_test\n",
    "from sklearn.metrics import explained_variance_score\n",
    "print('Variance Score:',explained_variance_score(Y_test,Y_pred))# calculating variance score"
   ]
  },
  {
   "cell_type": "markdown",
   "metadata": {},
   "source": [
    "***Calculating accuracy score of lasso linear regression***"
   ]
  },
  {
   "cell_type": "code",
   "execution_count": 214,
   "metadata": {},
   "outputs": [
    {
     "name": "stdout",
     "output_type": "stream",
     "text": [
      "Accuracy Score: 0.714452998242\n"
     ]
    }
   ],
   "source": [
    "print('Accuracy Score:',ls.score(X_test, Y_test))# calculating accuracy score"
   ]
  },
  {
   "cell_type": "markdown",
   "metadata": {},
   "source": [
    "***Calculating the mean squared error***"
   ]
  },
  {
   "cell_type": "code",
   "execution_count": 215,
   "metadata": {},
   "outputs": [
    {
     "name": "stdout",
     "output_type": "stream",
     "text": [
      "Mean squared Error MSE: 21.6338394408\n"
     ]
    }
   ],
   "source": [
    "from sklearn import metrics\n",
    "print('Mean squared Error MSE:', metrics.mean_squared_error(Y_test, Y_pred))# calculating MSE"
   ]
  },
  {
   "cell_type": "markdown",
   "metadata": {},
   "source": [
    "***Plotting predicted housing prices versus the number of rooms***"
   ]
  },
  {
   "cell_type": "code",
   "execution_count": 216,
   "metadata": {},
   "outputs": [
    {
     "data": {
      "image/png": "[encoded data removed]",
      "text/plain": [
       "<matplotlib.figure.Figure at 0x1fb144a0e10>"
      ]
     },
     "metadata": {},
     "output_type": "display_data"
    }
   ],
   "source": [
    "#plt.scatter(X_test['Rooms'], Y_test,color='r')\n",
    "plt.scatter(Y_test,Y_pred, color='r')# plotting graph of actual and predicted housing prices\n",
    "#plt.scatter(X_train['Rooms'], Y_train,color='r')\n",
    "#plt.plot(X_train,lm.predict(X_train))\n",
    "plt.xlabel(\"Acutual House Price:\")\n",
    "plt.ylabel(\"Predicted House Price:\")\n",
    "plt.title(\"Actual vs Predicted House Price:\")\n",
    "plt.show()"
   ]
  },
  {
   "cell_type": "markdown",
   "metadata": {},
   "source": [
    "## Ridge regression\n",
    "\n",
    "Ridge Regression is a technique for analyzing multiple regression data that suffer from multicollinearity.Applying ridge regression on boston data"
   ]
  },
  {
   "cell_type": "markdown",
   "metadata": {},
   "source": [
    "***Importing Ridge linear regression from sklearn***"
   ]
  },
  {
   "cell_type": "code",
   "execution_count": 217,
   "metadata": {
    "collapsed": true
   },
   "outputs": [],
   "source": [
    "from sklearn.linear_model import Ridge"
   ]
  },
  {
   "cell_type": "markdown",
   "metadata": {},
   "source": [
    "***Fitting the data in Ridge regression model and displaying the predicted housing prices***"
   ]
  },
  {
   "cell_type": "code",
   "execution_count": 218,
   "metadata": {},
   "outputs": [
    {
     "data": {
      "text/plain": [
       "array([ 24.64456048,   9.54292974,  22.49227051,  19.53448542,\n",
       "        24.85222064,  25.63472568,   5.46071924,  28.65777654,\n",
       "        35.28806511,  24.70522461,  42.19658978,   7.01342468,\n",
       "        27.9319452 ,  18.89344098,  16.68197987,  34.61988049,\n",
       "        29.18747865,  19.44077351,  26.27858506,  17.97337436,\n",
       "        23.86826928,  17.82343855,  26.6490564 ,  31.96482516,\n",
       "        31.31821892,  28.00631243,  17.66081578,  -0.31674184,\n",
       "        28.98442863,  42.00330162,  34.36773421,  29.88626776,\n",
       "        42.85989337,  32.37173154,  24.5951979 ,  11.9474929 ,\n",
       "        12.86876714,  20.77476758,  28.36423261,  17.58572724,\n",
       "        13.33279644,  26.90272251,  10.29449432,  27.02899873,\n",
       "        11.89447563,  24.0196885 ,  24.12767008,  18.29851499,\n",
       "        33.18953338,  21.96480482,  33.6548948 ,  27.77013993,\n",
       "        38.33759165,  10.88923298,  27.76514861,  24.67592978,\n",
       "        11.69770788,  17.37470967,  38.22157503,  26.1668713 ,\n",
       "        17.47706756,  26.975969  ,  21.93572825,  26.79826763,\n",
       "        19.60525271,  27.89392667,  25.39329942,  10.20910432,\n",
       "        11.62960285,  31.4246336 ,  13.66174511,  14.57242608,\n",
       "        23.85857352,  22.43310671,  39.14409091,  17.57049893,\n",
       "        20.28902938,  21.12771669,  22.25025136,  14.67532539,\n",
       "        11.21632991,  20.0366337 ,   8.12145909,  28.77070488,\n",
       "        16.06561578,  30.50763355,  23.00458305,  27.38543516,\n",
       "        14.79132195,  26.51215119,  15.2070617 ,  30.80720783,\n",
       "        25.50755509,  20.6577275 ,  23.6369952 ,  41.36573033,\n",
       "        23.64537503,  19.65110997,  14.45242757,  24.1178121 ,\n",
       "        26.03183203,  16.53305783,  11.69426919,   4.01802682,\n",
       "        27.55453288,  -3.29878106,  33.49988665,  27.6913663 ,\n",
       "        22.69586933,  17.13124671])"
      ]
     },
     "execution_count": 218,
     "metadata": {},
     "output_type": "execute_result"
    }
   ],
   "source": [
    "lr = Ridge()\n",
    "\n",
    "lr.fit(X_train, Y_train)# fitting model\n",
    "\n",
    "Y_pred = lr.predict(X_test) #predicting housing price values\n",
    "\n",
    "Y_pred"
   ]
  },
  {
   "cell_type": "markdown",
   "metadata": {},
   "source": [
    "***Calculating variance score of model fit***"
   ]
  },
  {
   "cell_type": "code",
   "execution_count": 219,
   "metadata": {},
   "outputs": [
    {
     "name": "stdout",
     "output_type": "stream",
     "text": [
      "Variance Score: 0.730671801841\n"
     ]
    }
   ],
   "source": [
    "#Y_test\n",
    "from sklearn.metrics import explained_variance_score\n",
    "print('Variance Score:', explained_variance_score(Y_test,Y_pred))# calculating variance score"
   ]
  },
  {
   "cell_type": "markdown",
   "metadata": {},
   "source": [
    "***Calculating accuracy score of Ridge linear regression***"
   ]
  },
  {
   "cell_type": "code",
   "execution_count": 223,
   "metadata": {},
   "outputs": [
    {
     "name": "stdout",
     "output_type": "stream",
     "text": [
      "Accuracy score: 0.726538010537\n"
     ]
    }
   ],
   "source": [
    "print('Accuracy score:',lr.score(X_test, Y_test))# calculating accuracy score"
   ]
  },
  {
   "cell_type": "markdown",
   "metadata": {},
   "source": [
    "***Calculating the mean squared error***"
   ]
  },
  {
   "cell_type": "code",
   "execution_count": 221,
   "metadata": {},
   "outputs": [
    {
     "name": "stdout",
     "output_type": "stream",
     "text": [
      "Mean squared Error MSE: 20.7182451113\n"
     ]
    }
   ],
   "source": [
    "from sklearn import metrics\n",
    "print('Mean squared Error MSE:', metrics.mean_squared_error(Y_test, Y_pred))# calculating MSE"
   ]
  },
  {
   "cell_type": "markdown",
   "metadata": {},
   "source": [
    "***Plotting predicted housing prices versus the number of rooms***"
   ]
  },
  {
   "cell_type": "code",
   "execution_count": 222,
   "metadata": {},
   "outputs": [
    {
     "data": {
      "image/png": "[encoded data removed]",
      "text/plain": [
       "<matplotlib.figure.Figure at 0x1fb15743198>"
      ]
     },
     "metadata": {},
     "output_type": "display_data"
    }
   ],
   "source": [
    "plt.scatter(Y_test,Y_pred, color='black')# plotting actual and predicted housing prices\n",
    "plt.xlabel(\"Acutual House Price:\") \n",
    "plt.ylabel(\"Predicted House Price:\")\n",
    "plt.title(\"Actual vs Predicted House Price:\")\n",
    "plt.show()"
   ]
  },
  {
   "cell_type": "markdown",
   "metadata": {},
   "source": [
    "Conclusion on comparision of all three models:\n",
    "\n",
    "**Accuracy of ridge regression model is greater than the remaining two model fit accuracies.Also, means square error of the ridge regression is less ; Hence it can be concluded that Ridge regression is the best fit for the selected boston housing data**"
   ]
  },
  {
   "cell_type": "markdown",
   "metadata": {},
   "source": [
    "References:\n",
    "\n",
    "**http://scikit-learn.org/stable/modules/generated/sklearn.linear_model.LinearRegression.html**\n",
    "**http://scikit-learn.org/stable/modules/generated/sklearn.linear_model.Lasso.html**\n",
    "**http://scikit-learn.org/stable/modules/generated/sklearn.linear_model.Ridge.html**"
   ]
  }
 ],
 "metadata": {
  "kernelspec": {
   "display_name": "Python 3",
   "language": "python",
   "name": "python3"
  },
  "language_info": {
   "codemirror_mode": {
    "name": "ipython",
    "version": 3
   },
   "file_extension": ".py",
   "mimetype": "text/x-python",
   "name": "python",
   "nbconvert_exporter": "python",
   "pygments_lexer": "ipython3",
   "version": "3.6.1"
  }
 },
 "nbformat": 4,
 "nbformat_minor": 2
}
